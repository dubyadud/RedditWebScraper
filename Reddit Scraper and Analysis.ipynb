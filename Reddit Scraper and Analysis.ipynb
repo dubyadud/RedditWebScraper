{
 "cells": [
  {
   "cell_type": "markdown",
   "metadata": {},
   "source": [
    "# Reddit Scraper and NLP Analysis\n",
    "\n",
    "This notebook is written as a practice in **web scraping**, this could be done by accessing the Reddit API, but a conscious decision was made to scrape data instead as an exercise."
   ]
  },
  {
   "cell_type": "markdown",
   "metadata": {},
   "source": [
    "## Import libraries and set up html request function for scraping"
   ]
  },
  {
   "cell_type": "code",
   "execution_count": 1,
   "metadata": {},
   "outputs": [],
   "source": [
    "import requests\n",
    "from bs4 import BeautifulSoup\n",
    "import time\n",
    "import pandas as pd\n",
    "import numpy as np\n",
    "import spacy\n",
    "nlp = spacy.load('en_core_web_sm')"
   ]
  },
  {
   "cell_type": "code",
   "execution_count": 2,
   "metadata": {},
   "outputs": [],
   "source": [
    "#html request\n",
    "def html_data(url):\n",
    "    html = requests.get(url, headers = {'User-Agent': 'whatever'})\n",
    "    soup = BeautifulSoup(html.text, 'lxml')\n",
    "    threads = soup.find_all(name = 'div', attrs = {'id':'siteTable','class':'sitetable linklisting'})\n",
    "    status_code = html.status_code\n",
    "    \n",
    "    return status_code, threads, soup"
   ]
  },
  {
   "cell_type": "markdown",
   "metadata": {},
   "source": [
    "## Create functions for scraping reddit front page"
   ]
  },
  {
   "cell_type": "code",
   "execution_count": 3,
   "metadata": {},
   "outputs": [],
   "source": [
    "def get_titles(threads, titles):\n",
    "    for i in threads:\n",
    "        x = i.find_all(name = 'p', attrs = {'class':'title'})\n",
    "        for t in x:\n",
    "               titles.append(t.a.text) \n",
    "    return titles\n",
    "            \n",
    "def get_subreddits(threads, subreddit):\n",
    "    for i in threads:\n",
    "        x = i.find_all(name = 'p', attrs = {'class':'tagline'})\n",
    "        for t in x:\n",
    "            subreddit.append(t.find('a', attrs = {'class':'subreddit hover may-blank'}).text)\n",
    "    return subreddit\n",
    "\n",
    "def get_dates(threads, dates):\n",
    "    for i in threads:\n",
    "        x = i.find_all(name = 'p', attrs = {'class':'tagline'})\n",
    "        for d in x:\n",
    "            dates.append(d.find(name = 'time')['datetime'])\n",
    "    return dates\n",
    "\n",
    "def get_vids(threads, vids):\n",
    "    for i in threads:\n",
    "        x = i.find_all(name = 'div', attrs = {'class':'top-matter'})\n",
    "        for d in x:\n",
    "            if d.find(name = 'div', attrs = {'class':'expando-button collapsed hide-when-pinned video'}) != None:\n",
    "                vids.append(1)\n",
    "            else:\n",
    "                vids.append(0)\n",
    "    return vids\n",
    "    \n",
    "def get_thread_url(threads, threadlink):\n",
    "    for i in threads:\n",
    "        x = i.find_all(name = 'p', attrs = {'class':'title'})\n",
    "        for t in x:\n",
    "               threadlink.append(t.a['href'])\n",
    "    return threadlink\n",
    "    \n",
    "def get_comments(threads, comments):\n",
    "    for i in threads:\n",
    "        x = i.find_all(name = 'li', attrs = {'class':'first'})\n",
    "        for j in x:\n",
    "            comments.append(j.find(name = 'a').text.split()[0])\n",
    "    return comments\n",
    "\n",
    "#if no likes return NaN, process this with Pandas later(likely remove)\n",
    "def get_likes(threads, likes):\n",
    "    for i in threads:\n",
    "        x = i.find_all(name = 'div', attrs = {'class':'score unvoted'})\n",
    "        for j in x:\n",
    "            try:\n",
    "                likes.append(j['title'])\n",
    "            except:\n",
    "                likes.append('NaN')\n",
    "    return likes\n",
    "\n",
    "def get_thread_id(threads, thread_id):\n",
    "    for i in threads:\n",
    "        x = i.find_all(name = 'div', attrs = {'data-type':'link'})\n",
    "        for j in x:\n",
    "            thread_id.append(j['class'][2].split('-')[-1])\n",
    "    return thread_id"
   ]
  },
  {
   "cell_type": "markdown",
   "metadata": {},
   "source": [
    "## Define function to scrape and consolidate data into pandas dataframe"
   ]
  },
  {
   "cell_type": "code",
   "execution_count": 4,
   "metadata": {},
   "outputs": [],
   "source": [
    "#scrape the data\n",
    "def getFrontPageData(pages = 5, reddit_site = 'https://www.reddit.com'):\n",
    "    '''Web scrapes reddit for front page data, you can input how many pages you want to return.\n",
    "       If this number exceeds the total number of pages available the function will return all results.\n",
    "       \n",
    "       If the scraper crashes when attempting to reach the next page it will output the current results\n",
    "       of the dataframe. If you need to pick up at a later time you can input the url you want to start \n",
    "       at by using the url kwarg.'''\n",
    "    \n",
    "    #create lists/dict for information we gonna scrape\n",
    "    titles, subreddit, dates, threadlink, vids, comments, likes, thread_id = ([] for i in range(8))\n",
    "    red_dict = {}\n",
    "    \n",
    "    #keeps track of results per page\n",
    "    page_cnt = 0\n",
    "    url = reddit_site \n",
    "    \n",
    "    for page in range(0, pages):\n",
    "        \n",
    "        #catch soup and data about trending threads\n",
    "        status_code, threads, soup = html_data(url)\n",
    "        \n",
    "        try:\n",
    "            #while the html request is good, use this to determine how fast you can request data from server\n",
    "            status_code == 200\n",
    "        except:\n",
    "            break\n",
    "\n",
    "        #try to get data, end function if error\n",
    "        try:\n",
    "            titles = get_titles(threads, titles)\n",
    "            subreddit = get_subreddits(threads, subreddit)\n",
    "            dates = get_dates(threads, dates)\n",
    "            threadlink = get_thread_url(threads, threadlink)\n",
    "            vids = get_vids(threads, vids)\n",
    "            comments = get_comments(threads, comments)\n",
    "            likes = get_likes(threads, likes)\n",
    "            thread_id = get_thread_id(threads, thread_id)\n",
    "        except:\n",
    "            print(\"Getting Data Error!\")\n",
    "            break\n",
    "\n",
    "        #get hyperlink for next page, if not available this is the end of the front page, end script\n",
    "        #by breaking out of for loop and creating the dataframe, increase page count by 25\n",
    "        try:\n",
    "            page_cnt += 25\n",
    "            for i in threads:\n",
    "                x = i.find(name = 'div', attrs = {'data-type':'link', 'data-rank':page_cnt})['class'][2].split('-')[-1]\n",
    "            url = reddit_site + '/?count=' + str(page_cnt) + '&after=' + str(x)\n",
    "        except:\n",
    "            print(\"Next Page Error!\")\n",
    "            break\n",
    "        #wait some time, get next page data\n",
    "        time.sleep(0.1)\n",
    "    \n",
    "    #create dictionary from lists for creating df\n",
    "    red_dict['title'] = titles\n",
    "    red_dict['subreddit'] = subreddit\n",
    "    red_dict['submitted'] = dates\n",
    "    red_dict['threadlink'] = threadlink\n",
    "    red_dict['comments'] = comments\n",
    "    red_dict['expands'] = vids\n",
    "    red_dict['likes'] = likes\n",
    "    red_dict['thread_id'] = thread_id\n",
    "\n",
    "    #printing information where scrape ends\n",
    "    print(\"Scraped results for\", page + 1, \"reddit page(s)\")\n",
    "    print(\"Returned\", len(titles), \"thread results\")\n",
    "    print(\"Last Status Code:\", status_code)\n",
    "    print(\"Last scraped Reddit page:\", url)\n",
    "    \n",
    "    #return df to begin analysis\n",
    "    return pd.DataFrame(red_dict)"
   ]
  },
  {
   "cell_type": "markdown",
   "metadata": {},
   "source": [
    "## Scrape Reddit and return results as a pandas dataframe for homepage and r/all, consolidate results into one dataframe"
   ]
  },
  {
   "cell_type": "code",
   "execution_count": 5,
   "metadata": {},
   "outputs": [
    {
     "name": "stdout",
     "output_type": "stream",
     "text": [
      "Next Page Error!\n",
      "Scraped results for 319 reddit page(s)\n",
      "Returned 7950 thread results\n",
      "Last Status Code: 200\n",
      "Last scraped Reddit page: https://www.reddit.com/r/all/?count=7950&after=t3_80eufz\n",
      "Next Page Error!\n",
      "Scraped results for 53 reddit page(s)\n",
      "Returned 1308 thread results\n",
      "Last Status Code: 200\n",
      "Last scraped Reddit page: https://www.reddit.com/?count=1300&after=t3_8098fu\n",
      "Wall time: 5min 50s\n"
     ]
    }
   ],
   "source": [
    "%%time\n",
    "#get data from front page and from r/all to get a sample of viral posts(front page) and non-viral(other stuff in r/all)\n",
    "redall = getFrontPageData(pages= 10000, reddit_site = 'https://www.reddit.com/r/all')\n",
    "redhome = getFrontPageData(pages = 10000, reddit_site = 'https://www.reddit.com')"
   ]
  },
  {
   "cell_type": "code",
   "execution_count": 6,
   "metadata": {},
   "outputs": [],
   "source": [
    "#deduplicating file based on id of the thread\n",
    "redhome.drop_duplicates(subset = 'thread_id', inplace = True)\n",
    "redall.drop_duplicates(subset = 'thread_id', inplace = True)"
   ]
  },
  {
   "cell_type": "code",
   "execution_count": 7,
   "metadata": {},
   "outputs": [],
   "source": [
    "#mark posts in r/all that that were present on the front page\n",
    "redall['frontpage'] = redall['thread_id'].apply(lambda x: 1 if x in list(redhome['thread_id']) else 0 )\n",
    "#deleting pages from frontpage in r/all\n",
    "redall.drop(redall[redall['frontpage'] == 1].index, axis = 0, inplace = True)"
   ]
  },
  {
   "cell_type": "code",
   "execution_count": 8,
   "metadata": {},
   "outputs": [],
   "source": [
    "#mark all homepage posts as 1(viral), and all remaining r/all as 0(non-viral)\n",
    "redhome['frontpage'] = 1\n",
    "#concatenate the two datasets into one set, reset the index, drop the old index\n",
    "reddit = pd.concat([redall, redhome]).reset_index(drop = True)"
   ]
  },
  {
   "cell_type": "code",
   "execution_count": 9,
   "metadata": {},
   "outputs": [],
   "source": [
    "#drop pages where comments was scraped incorrectly and convert to number\n",
    "reddit.drop(reddit[reddit['comments'] == 'comment'].index, inplace = True)\n",
    "reddit['comments'] = pd.to_numeric(reddit['comments'])"
   ]
  },
  {
   "cell_type": "code",
   "execution_count": 10,
   "metadata": {},
   "outputs": [],
   "source": [
    "#drop threads where likes did not come in correctly\n",
    "reddit.drop(reddit[reddit['likes'] == 'NaN'].index, inplace = True)\n",
    "#convert likes to numeric\n",
    "reddit['likes'] = pd.to_numeric(reddit['likes'])"
   ]
  },
  {
   "cell_type": "code",
   "execution_count": 11,
   "metadata": {},
   "outputs": [],
   "source": [
    "#column for if comments is above or below the average number of comments\n",
    "reddit['comments_relation'] = reddit['comments'].apply(lambda x: 1 if x >= np.average(reddit['comments']) else 0)"
   ]
  },
  {
   "cell_type": "code",
   "execution_count": 40,
   "metadata": {},
   "outputs": [],
   "source": [
    "#get Part-of-Speech (POS) tagging for each word in title in new column\n",
    "reddit['POS'] = reddit['title'].apply(lambda x: [ token.tag_ for token in nlp(x)])\n",
    "reddit['POS_sen'] = reddit['POS'].apply(lambda x: \" \".join(i for i in x))"
   ]
  },
  {
   "cell_type": "code",
   "execution_count": 55,
   "metadata": {},
   "outputs": [],
   "source": [
    "#get entity recognition token\n",
    "reddit['ent'] = reddit['title'].apply(lambda x: [token.label_ for token in nlp(x).ents])\n",
    "#entity sentence to count vectorize\n",
    "reddit['ent_sen'] = reddit['ent'].apply(lambda x: \" \".join(i for i in x))"
   ]
  },
  {
   "cell_type": "code",
   "execution_count": 244,
   "metadata": {},
   "outputs": [],
   "source": [
    "inputs = reddit['title']"
   ]
  },
  {
   "cell_type": "code",
   "execution_count": 245,
   "metadata": {},
   "outputs": [],
   "source": [
    "from sklearn.feature_extraction.text import CountVectorizer, HashingVectorizer, TfidfVectorizer"
   ]
  },
  {
   "cell_type": "code",
   "execution_count": 246,
   "metadata": {},
   "outputs": [],
   "source": [
    "#instantiate model and fit_transform on our homepage data\n",
    "#thread_id is used here as the index so other columns can be merged on to it as a unique identifier\n",
    "\n",
    "cvec = CountVectorizer(stop_words = 'english', ngram_range=(1,2))\n",
    "\n",
    "cvecdf = pd.DataFrame(cvec.fit_transform(inputs).todense(), \n",
    "                     columns = cvec.get_feature_names(),\n",
    "                     index = reddit['thread_id']).reset_index()\n",
    "\n"
   ]
  },
  {
   "cell_type": "code",
   "execution_count": 176,
   "metadata": {},
   "outputs": [],
   "source": [
    "tvec = TfidfVectorizer(stop_words = 'english', ngram_range = (1,2))\n",
    "\n",
    "tvecdf  = pd.DataFrame(tvec.fit_transform(inputs).todense(),\n",
    "                       columns=tvec.get_feature_names(),\n",
    "                      index = reddit['thread_id']).reset_index()"
   ]
  },
  {
   "cell_type": "markdown",
   "metadata": {},
   "source": [
    "## Create Train and Test Data"
   ]
  },
  {
   "cell_type": "code",
   "execution_count": 200,
   "metadata": {},
   "outputs": [],
   "source": [
    "from sklearn.model_selection import cross_val_score, StratifiedKFold\n",
    "from sklearn.tree import DecisionTreeClassifier\n",
    "from sklearn.ensemble import RandomForestClassifier, ExtraTreesClassifier, BaggingClassifier\n",
    "from sklearn.model_selection import train_test_split\n",
    "\n",
    "from sklearn.utils import resample\n",
    "from sklearn.metrics import accuracy_score\n",
    "from sklearn.model_selection import GridSearchCV"
   ]
  },
  {
   "cell_type": "code",
   "execution_count": 247,
   "metadata": {},
   "outputs": [],
   "source": [
    "#merge count verctorized/tfidf data together with other necessary features\n",
    "cvecdfy = cvecdf.merge(reddit[['thread_id', 'expands', 'comments_relation']], how = 'left', on = 'thread_id')\n",
    "#tvecdfy= tvecdf.merge(reddit[['thread_id', 'expands', 'comments_relation']], how = 'left', on = 'thread_id')\n"
   ]
  },
  {
   "cell_type": "code",
   "execution_count": 248,
   "metadata": {},
   "outputs": [],
   "source": [
    "#cvecdfy = tvecdfy.merge(pd.get_dummies(tvecdfy['subreddit'], prefix = 'SR', drop_first = True), how = 'left', left_index = True, right_index = True)"
   ]
  },
  {
   "cell_type": "code",
   "execution_count": 249,
   "metadata": {},
   "outputs": [],
   "source": [
    "#set x and y before putting into test, train, split\n",
    "y = cvecdfy['comments_relation']\n",
    "X = cvecdfy.drop(columns = ['thread_id', 'comments_relation'])"
   ]
  },
  {
   "cell_type": "code",
   "execution_count": 250,
   "metadata": {},
   "outputs": [],
   "source": [
    "#splits into a training set and a test set\n",
    "X_train, X_test, y_train, y_test = train_test_split(X, y, test_size=0.5\n",
    "                                                   , random_state = 13\n",
    "                                                   , stratify = y)\n"
   ]
  },
  {
   "cell_type": "markdown",
   "metadata": {},
   "source": [
    "### Downsample majority class to provide equal distribution of classes for training data"
   ]
  },
  {
   "cell_type": "code",
   "execution_count": 251,
   "metadata": {},
   "outputs": [
    {
     "data": {
      "text/plain": [
       "0.8298847177061779"
      ]
     },
     "execution_count": 251,
     "metadata": {},
     "output_type": "execute_result"
    }
   ],
   "source": [
    "#baseline accuracy calculation, at this point the model is performing worse than just picking \n",
    "#must downsample to get an even distribution of classes for training\n",
    "1 - cvecdfy['comments_relation'].sum()/cvecdfy.shape[0]"
   ]
  },
  {
   "cell_type": "code",
   "execution_count": 252,
   "metadata": {},
   "outputs": [],
   "source": [
    "#rejoin train data so it can be downsampled to match classes\n",
    "traindata = X_train.merge(pd.DataFrame(y_train), how = 'left', right_index = True, left_index = True)\n",
    "\n",
    "#downsample the majority class (posts with comments under average, to make evenly stratified train data)\n",
    "#separate minority and majority classes\n",
    "train_majority = traindata[traindata['comments_relation'] == 0]\n",
    "train_minority = traindata[traindata['comments_relation'] == 1]\n",
    "#downsample majority class\n",
    "train_majority_downsampled = resample(train_majority, \n",
    "                                     replace = False, \n",
    "                                     n_samples = train_minority.shape[0],\n",
    "                                     random_state = 42)\n",
    "#combine classes\n",
    "train_data_downsampled = pd.concat([train_minority, train_majority_downsampled])\n",
    "#split back into X_train and y_train\n",
    "X_train = train_data_downsampled.drop(columns = 'comments_relation')\n",
    "y_train = train_data_downsampled['comments_relation']"
   ]
  },
  {
   "cell_type": "markdown",
   "metadata": {},
   "source": [
    "## Run Models with GridSearch to find optimal hyperparamaters"
   ]
  },
  {
   "cell_type": "code",
   "execution_count": 253,
   "metadata": {},
   "outputs": [
    {
     "data": {
      "text/plain": [
       "(1152, 41975)"
      ]
     },
     "execution_count": 253,
     "metadata": {},
     "output_type": "execute_result"
    }
   ],
   "source": [
    "X_train.shape"
   ]
  },
  {
   "cell_type": "code",
   "execution_count": 254,
   "metadata": {},
   "outputs": [],
   "source": [
    "#setting up stratified kfold\n",
    "cv = StratifiedKFold(n_splits = 5, shuffle = True, random_state = 42)\n"
   ]
  },
  {
   "cell_type": "code",
   "execution_count": 255,
   "metadata": {},
   "outputs": [
    {
     "name": "stdout",
     "output_type": "stream",
     "text": [
      "Fitting 5 folds for each of 35 candidates, totalling 175 fits\n"
     ]
    },
    {
     "name": "stderr",
     "output_type": "stream",
     "text": [
      "[Parallel(n_jobs=-1)]: Done  42 tasks      | elapsed:   37.0s\n",
      "[Parallel(n_jobs=-1)]: Done 175 out of 175 | elapsed:  2.2min finished\n"
     ]
    },
    {
     "name": "stdout",
     "output_type": "stream",
     "text": [
      "Wall time: 2min 13s\n"
     ]
    }
   ],
   "source": [
    "%%time\n",
    "\n",
    "bparams = {'n_estimators':[20, 21, 22, 23, 24],\n",
    "            'max_features':[10, 20, 30, 35, 38, 40, 41]}\n",
    "\n",
    "bgs = GridSearchCV(BaggingClassifier(),\n",
    "                   bparams,\n",
    "                   verbose = 1, \n",
    "                   cv = cv,\n",
    "                   n_jobs = -1)\n",
    "\n",
    "bgs.fit(X_train, y_train)"
   ]
  },
  {
   "cell_type": "code",
   "execution_count": 256,
   "metadata": {},
   "outputs": [
    {
     "data": {
      "text/plain": [
       "0.189476795743423"
      ]
     },
     "execution_count": 256,
     "metadata": {},
     "output_type": "execute_result"
    }
   ],
   "source": [
    "bgs.score(X_test, y_test)"
   ]
  },
  {
   "cell_type": "code",
   "execution_count": 257,
   "metadata": {},
   "outputs": [
    {
     "name": "stdout",
     "output_type": "stream",
     "text": [
      "Fitting 5 folds for each of 120 candidates, totalling 600 fits\n"
     ]
    },
    {
     "name": "stderr",
     "output_type": "stream",
     "text": [
      "[Parallel(n_jobs=-1)]: Done  42 tasks      | elapsed:   34.5s\n",
      "[Parallel(n_jobs=-1)]: Done 192 tasks      | elapsed:  2.5min\n",
      "[Parallel(n_jobs=-1)]: Done 442 tasks      | elapsed:  5.7min\n",
      "[Parallel(n_jobs=-1)]: Done 600 out of 600 | elapsed:  7.7min finished\n"
     ]
    },
    {
     "name": "stdout",
     "output_type": "stream",
     "text": [
      "Wall time: 7min 44s\n"
     ]
    }
   ],
   "source": [
    "%%time\n",
    "\n",
    "rfparams = {'n_estimators':[20, 21, 22, 23, 24],\n",
    "            'max_features':[30, 35, 38, 40],\n",
    "            'min_samples_leaf':[2,3,5,7,9,11]}\n",
    "\n",
    "rfgs = GridSearchCV(RandomForestClassifier(),\n",
    "                    rfparams,\n",
    "                    verbose = 1,\n",
    "                    cv = cv,\n",
    "                    n_jobs = -1)\n",
    "\n",
    "rfgs.fit(X_train, y_train)"
   ]
  },
  {
   "cell_type": "code",
   "execution_count": 258,
   "metadata": {},
   "outputs": [
    {
     "data": {
      "text/plain": [
       "0.16996748448122967"
      ]
     },
     "execution_count": 258,
     "metadata": {},
     "output_type": "execute_result"
    }
   ],
   "source": [
    "rfgs.score(X_test, y_test)"
   ]
  },
  {
   "cell_type": "code",
   "execution_count": 265,
   "metadata": {},
   "outputs": [
    {
     "data": {
      "text/plain": [
       "0.5"
      ]
     },
     "execution_count": 265,
     "metadata": {},
     "output_type": "execute_result"
    }
   ],
   "source": [
    "rfgs.score(X_train, y_train)"
   ]
  },
  {
   "cell_type": "code",
   "execution_count": 266,
   "metadata": {},
   "outputs": [
    {
     "data": {
      "text/plain": [
       "array([[576,   0],\n",
       "       [576,   0]], dtype=int64)"
      ]
     },
     "execution_count": 266,
     "metadata": {},
     "output_type": "execute_result"
    }
   ],
   "source": [
    "confusion_matrix(np.array(y_train), rfgs.best_estimator_.predict(X_train), labels = [1,0])"
   ]
  },
  {
   "cell_type": "code",
   "execution_count": 259,
   "metadata": {},
   "outputs": [
    {
     "name": "stdout",
     "output_type": "stream",
     "text": [
      "Fitting 5 folds for each of 120 candidates, totalling 600 fits\n"
     ]
    },
    {
     "name": "stderr",
     "output_type": "stream",
     "text": [
      "[Parallel(n_jobs=-1)]: Done  42 tasks      | elapsed:   34.3s\n",
      "[Parallel(n_jobs=-1)]: Done 192 tasks      | elapsed:  2.5min\n",
      "[Parallel(n_jobs=-1)]: Done 442 tasks      | elapsed:  5.7min\n",
      "[Parallel(n_jobs=-1)]: Done 600 out of 600 | elapsed:  7.7min finished\n"
     ]
    },
    {
     "name": "stdout",
     "output_type": "stream",
     "text": [
      "Wall time: 7min 40s\n"
     ]
    }
   ],
   "source": [
    "%%time\n",
    "\n",
    "etparams = {'n_estimators':[22, 23, 24, 25, 30],\n",
    "            'max_features':[20, 30, 35],\n",
    "            'min_samples_leaf':[2,3,5,7,8,9,10,11]}\n",
    "\n",
    "\n",
    "etgs = GridSearchCV(ExtraTreesClassifier(),\n",
    "                      etparams,\n",
    "                      verbose = 1,\n",
    "                      cv = cv,\n",
    "                      n_jobs = -1)\n",
    "\n",
    "etgs.fit(X_train, y_train)"
   ]
  },
  {
   "cell_type": "code",
   "execution_count": 260,
   "metadata": {},
   "outputs": [
    {
     "data": {
      "text/plain": [
       "0.8066804611291752"
      ]
     },
     "execution_count": 260,
     "metadata": {},
     "output_type": "execute_result"
    }
   ],
   "source": [
    "etgs.score(X_test, y_test)"
   ]
  },
  {
   "cell_type": "code",
   "execution_count": 272,
   "metadata": {},
   "outputs": [
    {
     "data": {
      "text/plain": [
       "array([[ 65, 511],\n",
       "       [  9, 567]], dtype=int64)"
      ]
     },
     "execution_count": 272,
     "metadata": {},
     "output_type": "execute_result"
    }
   ],
   "source": [
    "confusion_matrix(np.array(y_train), etgs.best_estimator_.predict(X_train), labels = [1,0])"
   ]
  },
  {
   "cell_type": "markdown",
   "metadata": {},
   "source": [
    "### Looking at feature importance"
   ]
  },
  {
   "cell_type": "code",
   "execution_count": 105,
   "metadata": {},
   "outputs": [],
   "source": [
    "feats = pd.concat([pd.DataFrame(X_train.columns.tolist()),pd.DataFrame(rfgs.best_estimator_.feature_importances_)],axis = 1)\n",
    "feats.columns = ['feature', 'importance']"
   ]
  },
  {
   "cell_type": "markdown",
   "metadata": {},
   "source": [
    "## Results"
   ]
  },
  {
   "cell_type": "code",
   "execution_count": 82,
   "metadata": {},
   "outputs": [],
   "source": [
    "from sklearn.metrics import confusion_matrix, roc_curve, auc\n",
    "import matplotlib.pyplot as plt"
   ]
  },
  {
   "cell_type": "code",
   "execution_count": 108,
   "metadata": {},
   "outputs": [
    {
     "name": "stdout",
     "output_type": "stream",
     "text": [
      "Fitting 5 folds for each of 294 candidates, totalling 1470 fits\n"
     ]
    },
    {
     "name": "stderr",
     "output_type": "stream",
     "text": [
      "[Parallel(n_jobs=-1)]: Done  42 tasks      | elapsed:   41.8s\n",
      "[Parallel(n_jobs=-1)]: Done 192 tasks      | elapsed:  3.3min\n",
      "[Parallel(n_jobs=-1)]: Done 442 tasks      | elapsed:  7.5min\n",
      "[Parallel(n_jobs=-1)]: Done 792 tasks      | elapsed: 13.0min\n",
      "[Parallel(n_jobs=-1)]: Done 1242 tasks      | elapsed: 19.5min\n",
      "[Parallel(n_jobs=-1)]: Done 1470 out of 1470 | elapsed: 22.5min finished\n"
     ]
    },
    {
     "data": {
      "text/plain": [
       "GridSearchCV(cv=StratifiedKFold(n_splits=5, random_state=42, shuffle=True),\n",
       "       error_score='raise',\n",
       "       estimator=RandomForestClassifier(bootstrap=True, class_weight=None, criterion='gini',\n",
       "            max_depth=None, max_features='auto', max_leaf_nodes=None,\n",
       "            min_impurity_decrease=0.0, min_impurity_split=None,\n",
       "            min_samples_leaf=1, min_samples_split=2,\n",
       "            min_weight_fraction_leaf=0.0, n_estimators=10, n_jobs=1,\n",
       "            oob_score=False, random_state=None, verbose=0,\n",
       "            warm_start=False),\n",
       "       fit_params=None, iid=True, n_jobs=-1,\n",
       "       param_grid={'n_estimators': [10, 15, 20, 21, 22, 23, 24], 'min_samples_leaf': [2, 3, 5, 7, 9, 11], 'max_features': [10, 20, 30, 35, 38, 40, 41]},\n",
       "       pre_dispatch='2*n_jobs', refit=True, return_train_score='warn',\n",
       "       scoring=None, verbose=1)"
      ]
     },
     "execution_count": 108,
     "metadata": {},
     "output_type": "execute_result"
    }
   ],
   "source": [
    "etgs.fit(X_train, y_train)"
   ]
  },
  {
   "cell_type": "code",
   "execution_count": 306,
   "metadata": {},
   "outputs": [],
   "source": [
    "#determine false positives and true positives\n",
    "fpr, tpr, _ = roc_curve(y_test, etgs.best_estimator_.predict_proba(X_test)[:,0])"
   ]
  },
  {
   "cell_type": "code",
   "execution_count": 307,
   "metadata": {},
   "outputs": [],
   "source": [
    "#calculate the AUC (area under the curve)\n",
    "roc_auc = auc(fpr, tpr)"
   ]
  },
  {
   "cell_type": "code",
   "execution_count": 309,
   "metadata": {},
   "outputs": [
    {
     "name": "stdout",
     "output_type": "stream",
     "text": [
      "ROC AUC: 1.00\n"
     ]
    }
   ],
   "source": [
    "print('ROC AUC:', format(roc_auc,  '.2f'))"
   ]
  },
  {
   "cell_type": "code",
   "execution_count": 310,
   "metadata": {},
   "outputs": [
    {
     "data": {
      "text/plain": [
       "array([[  29,  546],\n",
       "       [ 108, 2700]], dtype=int64)"
      ]
     },
     "execution_count": 310,
     "metadata": {},
     "output_type": "execute_result"
    }
   ],
   "source": [
    "confusion_matrix(np.array(y_test), etgs.predict(X_test), labels = [1,0])"
   ]
  },
  {
   "cell_type": "code",
   "execution_count": 311,
   "metadata": {},
   "outputs": [
    {
     "data": {
      "image/png": "[encoded data removed]",
      "text/plain": [
       "<matplotlib.figure.Figure at 0x25993c56898>"
      ]
     },
     "metadata": {},
     "output_type": "display_data"
    }
   ],
   "source": [
    "#plot of a ROC curve for a specific class\n",
    "plt.figure()\n",
    "plt.plot(fpr, tpr, label='ROC curve (area = %0.2f)' % roc_auc, color = 'blue')\n",
    "plt.plot([0, 1], [0,1], 'k--')\n",
    "plt.xlim([0.0, 1.0])\n",
    "plt.ylim([0.0, 1.05])\n",
    "plt.xlabel('False Positive Rate')\n",
    "plt.ylabel('True Positive Rate')\n",
    "plt.title('Reciever Operating Characteristic (ROC) Curve')\n",
    "plt.legend(loc=\"lower right\")\n",
    "plt.show()"
   ]
  },
  {
   "cell_type": "code",
   "execution_count": null,
   "metadata": {},
   "outputs": [],
   "source": []
  }
 ],
 "metadata": {
  "kernelspec": {
   "display_name": "Python 3",
   "language": "python",
   "name": "python3"
  },
  "language_info": {
   "codemirror_mode": {
    "name": "ipython",
    "version": 3
   },
   "file_extension": ".py",
   "mimetype": "text/x-python",
   "name": "python",
   "nbconvert_exporter": "python",
   "pygments_lexer": "ipython3",
   "version": "3.5.4"
  }
 },
 "nbformat": 4,
 "nbformat_minor": 2
}
